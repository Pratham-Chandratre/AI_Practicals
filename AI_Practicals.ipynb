{
 "cells": [
  {
   "cell_type": "markdown",
   "id": "78b070dd-666d-41ff-b8fc-630bf6023172",
   "metadata": {},
   "source": [
    "# \n",
    "Travelling Salesman Probl"
   ]
  },
  {
   "cell_type": "markdown",
   "id": "7868b5e0-2526-42e9-a9bc-1f61a801c65b",
   "metadata": {},
   "source": [
    "# DFS"
   ]
  },
  {
   "cell_type": "code",
   "execution_count": 4,
   "id": "9d13c657-d8e8-4227-aacc-f48e6508ba17",
   "metadata": {},
   "outputs": [
    {
     "name": "stdout",
     "output_type": "stream",
     "text": [
      "A\n",
      "B\n",
      "D\n",
      "E\n",
      "F\n",
      "C\n"
     ]
    }
   ],
   "source": [
    "# Define a simple undirected graph as an adjacency list.\n",
    "graph = {\n",
    "    'A': ['B', 'C'],\n",
    "    'B': ['A', 'D', 'E'],\n",
    "    'C': ['A', 'F'],\n",
    "    'D': ['B'],\n",
    "    'E': ['B', 'F'],\n",
    "    'F': ['C', 'E']\n",
    "}\n",
    "\n",
    "# DFS function using recursion\n",
    "def dfs(graph, node, visited):\n",
    "    if node not in visited:\n",
    "        print(node)\n",
    "        visited.add(node)\n",
    "        for neighbor in graph[node]:\n",
    "            dfs(graph, neighbor, visited)\n",
    "\n",
    "# Call DFS starting from node 'A'\n",
    "visited = set()\n",
    "dfs(graph, 'A', visited)"
   ]
  },
  {
   "cell_type": "markdown",
   "id": "fdb9c094-68c1-45ff-a94e-f80c4bce517b",
   "metadata": {},
   "source": [
    "# BFS"
   ]
  },
  {
   "cell_type": "code",
   "execution_count": 3,
   "id": "b6455bb9-6d2b-401b-a70e-d3c366106195",
   "metadata": {},
   "outputs": [
    {
     "name": "stdout",
     "output_type": "stream",
     "text": [
      "A\n",
      "B\n",
      "C\n",
      "D\n",
      "E\n",
      "F\n"
     ]
    }
   ],
   "source": [
    "\n",
    "\n",
    "from collections import deque\n",
    "\n",
    "# Define a simple undirected graph as an adjacency list.\n",
    "graph = {\n",
    "    'A': ['B', 'C'],\n",
    "    'B': ['A', 'D', 'E'],\n",
    "    'C': ['A', 'F'],\n",
    "    'D': ['B'],\n",
    "    'E': ['B', 'F'],\n",
    "    'F': ['C', 'E']\n",
    "}\n",
    "\n",
    "# BFS function\n",
    "def bfs(graph, start):\n",
    "    visited = set()\n",
    "    queue = deque([start])\n",
    "\n",
    "    while queue:\n",
    "        node = queue.popleft()\n",
    "        if node not in visited:\n",
    "            print(node)\n",
    "            visited.add(node)\n",
    "            for neighbor in graph[node]:\n",
    "                if neighbor not in visited:\n",
    "                    queue.append(neighbor)\n",
    "\n",
    "# Call BFS starting from node 'A'\n",
    "bfs(graph, 'A')\n"
   ]
  },
  {
   "cell_type": "markdown",
   "id": "42fb518a-3648-4666-bb08-99da90256074",
   "metadata": {},
   "source": [
    "# Greedy Search"
   ]
  },
  {
   "cell_type": "code",
   "execution_count": 6,
   "id": "bac9757e-e734-4d1e-a687-47ebea9e224c",
   "metadata": {},
   "outputs": [
    {
     "name": "stdout",
     "output_type": "stream",
     "text": [
      "Original array: [64, 25, 12, 22, 11]\n",
      "Sorted array: [11, 12, 22, 25, 64]\n"
     ]
    }
   ],
   "source": [
    "\n",
    "\n",
    "# 1 - Selection Sort\n",
    "\n",
    "def selection_sort(arr):\n",
    "    # Traverse through all array elements\n",
    "    for i in range(len(arr)):\n",
    "        # Find the minimum element in the unsorted part\n",
    "        min_index = i\n",
    "        for j in range(i+1, len(arr)):\n",
    "            if arr[j] < arr[min_index]:\n",
    "                min_index = j\n",
    "\n",
    "        # Swap the found minimum element with the first unsorted element\n",
    "        arr[i], arr[min_index] = arr[min_index], arr[i]\n",
    "\n",
    "# Example usage:\n",
    "array = [64, 25, 12, 22, 11]\n",
    "print(\"Original array:\", array)\n",
    "selection_sort(array)\n",
    "print(\"Sorted array:\", array)"
   ]
  },
  {
   "cell_type": "code",
   "execution_count": 7,
   "id": "d4559ad2-0650-495d-9a19-c039538a0969",
   "metadata": {},
   "outputs": [
    {
     "name": "stdout",
     "output_type": "stream",
     "text": [
      "Minimum Spanning Tree: [('A', 'B', 2), ('B', 'C', 1), ('C', 'D', 1), ('C', 'E', 4)]\n"
     ]
    }
   ],
   "source": [
    "# 2- min_spanning_tree\n",
    "\n",
    "def min_spanning_tree(graph):\n",
    "    # Initialize an MST and a set to keep track of visited vertices\n",
    "    mst = []\n",
    "    visited = set()\n",
    "\n",
    "    # Start the algorithm by selecting the first vertex arbitrarily\n",
    "    start_vertex = list(graph.keys())[0]\n",
    "    visited.add(start_vertex)\n",
    "\n",
    "    # Loop until all vertices are visited\n",
    "    while len(visited) < len(graph):\n",
    "        min_edge = None\n",
    "        min_cost = float('inf')\n",
    "        min_vertex = None\n",
    "\n",
    "        # Traverse through visited vertices and find the minimum edge to an unvisited vertex\n",
    "        for vertex in visited:\n",
    "            for neighbor, weight in graph[vertex].items():\n",
    "                if neighbor not in visited and weight < min_cost:\n",
    "                    min_cost = weight\n",
    "                    min_vertex = neighbor\n",
    "                    min_edge = (vertex, neighbor)\n",
    "\n",
    "        # Add the minimum edge to the MST and mark the new vertex as visited\n",
    "        if min_edge:\n",
    "            mst.append((min_edge[0], min_edge[1], min_cost))\n",
    "            visited.add(min_vertex)\n",
    "\n",
    "    return mst\n",
    "\n",
    "# Example usage:\n",
    "# Example graph represented as an adjacency list\n",
    "example_graph = {\n",
    "    'A': {'B': 2, 'D': 5},\n",
    "    'B': {'A': 2, 'C': 1, 'D': 3},\n",
    "    'C': {'B': 1, 'D': 1, 'E': 4},\n",
    "    'D': {'A': 5, 'B': 3, 'C': 1, 'E': 7},\n",
    "    'E': {'C': 4, 'D': 7}\n",
    "}\n",
    "\n",
    "minimum_spanning_tree = min_spanning_tree(example_graph)\n",
    "print(\"Minimum Spanning Tree:\", minimum_spanning_tree)\n"
   ]
  },
  {
   "cell_type": "markdown",
   "id": "9c300670-5881-4e63-a296-611fcec7c611",
   "metadata": {},
   "source": [
    "# 4. Implement A star (A*) Algorithm for any game search problem."
   ]
  },
  {
   "cell_type": "code",
   "execution_count": 8,
   "id": "fb42f21c-e002-4736-a719-70734bbd657e",
   "metadata": {},
   "outputs": [
    {
     "name": "stdout",
     "output_type": "stream",
     "text": [
      "Path found from (0, 0) to (2, 2)\n"
     ]
    }
   ],
   "source": [
    "import heapq\n",
    "\n",
    "class Node:\n",
    "    def __init__(self, position, g_cost, h_cost):\n",
    "        self.position = position\n",
    "        self.g_cost = g_cost  # Cost from the start node to the current node\n",
    "        self.h_cost = h_cost  # Heuristic cost (estimated cost to reach the goal)\n",
    "\n",
    "    def __lt__(self, other):\n",
    "        return (self.g_cost + self.h_cost) < (other.g_cost + other.h_cost)\n",
    "\n",
    "def calculate_manhattan_distance(start, goal):\n",
    "    return abs(start[0] - goal[0]) + abs(start[1] - goal[1])\n",
    "\n",
    "def astar_search(graph, start, goal):\n",
    "    open_list = []\n",
    "    heapq.heappush(open_list, Node(start, 0, calculate_manhattan_distance(start, goal)))\n",
    "\n",
    "    while open_list:\n",
    "        current_node = heapq.heappop(open_list)\n",
    "\n",
    "        if current_node.position == goal:\n",
    "            return True  # Path found\n",
    "\n",
    "        for neighbor in graph[current_node.position]:\n",
    "            g_cost = current_node.g_cost + 1  # Assuming a uniform cost for movement\n",
    "            h_cost = calculate_manhattan_distance(neighbor, goal)\n",
    "            heapq.heappush(open_list, Node(neighbor, g_cost, h_cost))\n",
    "\n",
    "    return False  # No path found\n",
    "\n",
    "# Example usage:\n",
    "# Example graph representing a 2D grid with positions\n",
    "example_graph = {\n",
    "    (0, 0): [(0, 1), (1, 0)],  # Adjacency list for each position\n",
    "    (0, 1): [(0, 0), (0, 2), (1, 1)],\n",
    "    (0, 2): [(0, 1), (1, 2)],\n",
    "    (1, 0): [(0, 0), (1, 1), (2, 0)],\n",
    "    (1, 1): [(0, 1), (1, 0), (1, 2), (2, 1)],\n",
    "    (1, 2): [(0, 2), (1, 1), (2, 2)],\n",
    "    (2, 0): [(1, 0), (2, 1)],\n",
    "    (2, 1): [(1, 1), (2, 0), (2, 2)],\n",
    "    (2, 2): [(1, 2), (2, 1)]\n",
    "}\n",
    "\n",
    "start_position = (0, 0)\n",
    "goal_position = (2, 2)\n",
    "\n",
    "if astar_search(example_graph, start_position, goal_position):\n",
    "    print(\"Path found from\", start_position, \"to\", goal_position)\n",
    "else:\n",
    "    print(\"No path found.\")\n"
   ]
  },
  {
   "cell_type": "markdown",
   "id": "746bda5c-2d0a-4964-83bb-36f3f12a4eb9",
   "metadata": {},
   "source": [
    "# 5. Implement a solution for a Constraint Satisfaction Problem using Branch and Bound and Backtracking for a graph coloring problem."
   ]
  },
  {
   "cell_type": "code",
   "execution_count": 9,
   "id": "72ad3b3b-544a-4ae8-add3-f84c2a1de5eb",
   "metadata": {},
   "outputs": [
    {
     "name": "stdout",
     "output_type": "stream",
     "text": [
      "Graph can be colored with 3 colors: [1, 2, 1, 2]\n"
     ]
    }
   ],
   "source": [
    "# Backtracking for Graph Coloring\n",
    "\n",
    "def is_safe(graph, colors, v, c):\n",
    "    for i in range(len(graph)):\n",
    "        if graph[v][i] == 1 and colors[i] == c:\n",
    "            return False\n",
    "    return True\n",
    "\n",
    "def graph_coloring_bt(graph, m, colors, v):\n",
    "    if v == len(graph):\n",
    "        return True\n",
    "\n",
    "    for c in range(1, m + 1):\n",
    "        if is_safe(graph, colors, v, c):\n",
    "            colors[v] = c\n",
    "            if graph_coloring_bt(graph, m, colors, v + 1):\n",
    "                return True\n",
    "            colors[v] = 0\n",
    "\n",
    "    return False\n",
    "\n",
    "# Example usage\n",
    "graph = [\n",
    "    [0, 1, 0, 1],\n",
    "    [1, 0, 1, 0],\n",
    "    [0, 1, 0, 1],\n",
    "    [1, 0, 1, 0]\n",
    "]\n",
    "\n",
    "num_of_colors = 3\n",
    "color_assignment = [0] * len(graph)\n",
    "\n",
    "if graph_coloring_bt(graph, num_of_colors, color_assignment, 0):\n",
    "    print(\"Graph can be colored with\", num_of_colors, \"colors:\", color_assignment)\n",
    "else:\n",
    "    print(\"No possible coloring with\", num_of_colors, \"colors.\")\n"
   ]
  },
  {
   "cell_type": "code",
   "execution_count": 10,
   "id": "36d9a7f9-3af9-45bf-93af-97e9453505f9",
   "metadata": {},
   "outputs": [
    {
     "name": "stdout",
     "output_type": "stream",
     "text": [
      "Graph can be colored with 3 colors: [1, 2, 1, 2]\n"
     ]
    }
   ],
   "source": [
    "# Branch and Bound for Graph Coloring\n",
    "\n",
    "def is_safe(graph, colors, v, c):\n",
    "    for i in range(len(graph)):\n",
    "        if graph[v][i] == 1 and colors[i] == c:\n",
    "            return False\n",
    "    return True\n",
    "\n",
    "def promising(graph, colors, v, m):\n",
    "    for i in range(v):\n",
    "        if graph[v][i] == 1 and colors[i] == 0:\n",
    "            return False\n",
    "    return True\n",
    "\n",
    "def graph_coloring_bb(graph, m, colors, v):\n",
    "    if v == len(graph):\n",
    "        return True\n",
    "\n",
    "    for c in range(1, m + 1):\n",
    "        if is_safe(graph, colors, v, c):\n",
    "            colors[v] = c\n",
    "            if promising(graph, colors, v, m):\n",
    "                if graph_coloring_bb(graph, m, colors, v + 1):\n",
    "                    return True\n",
    "            colors[v] = 0\n",
    "\n",
    "    return False\n",
    "\n",
    "# Example usage\n",
    "graph = [\n",
    "    [0, 1, 0, 1],\n",
    "    [1, 0, 1, 0],\n",
    "    [0, 1, 0, 1],\n",
    "    [1, 0, 1, 0]\n",
    "]\n",
    "\n",
    "num_of_colors = 3\n",
    "color_assignment = [0] * len(graph)\n",
    "\n",
    "if graph_coloring_bb(graph, num_of_colors, color_assignment, 0):\n",
    "    print(\"Graph can be colored with\", num_of_colors, \"colors:\", color_assignment)\n",
    "else:\n",
    "    print(\"No possible coloring with\", num_of_colors, \"colors.\")\n"
   ]
  },
  {
   "cell_type": "markdown",
   "id": "9cdf3cf7-12f7-45b3-8d56-8e1a8417315e",
   "metadata": {},
   "source": [
    "# 7. Develop an elementary chatbot for any suitable customer interaction application."
   ]
  },
  {
   "cell_type": "code",
   "execution_count": null,
   "id": "79a5ab2e-0d04-42df-b1a8-a564db83d4e5",
   "metadata": {},
   "outputs": [
    {
     "name": "stdout",
     "output_type": "stream",
     "text": [
      "ChatBot: Hi! How can I assist you today?\n"
     ]
    }
   ],
   "source": [
    "import random\n",
    "\n",
    "responses = {\n",
    "    \"hello\": [\"Hello!\", \"Hi there!\", \"Hey!\"],\n",
    "    \"how are you\": [\"I'm just a bot, but I'm doing fine. How can I help you?\", \"I'm here to assist you!\"],\n",
    "    \"what's your name\": [\"I'm just a simple chatbot.\", \"I don't have a name. You can call me ChatBot.\"],\n",
    "    \"goodbye\": [\"Goodbye!\", \"See you later!\"],\n",
    "    \"what are todays top products\": [\"Lenovo yoga and Asus TUF gaming are todays top products.\"],\n",
    "    \"what is the lowest pricing laptop today\": [\"I'ts Acer Nitro.\"],\n",
    "    \"what are its specifications\": [\"It comes with a 16GB RAM / 512GB SSD, intel core i5 12th generation, 4GB Graphics card RTX 3050.\"],\n",
    "    \"is there any discount on it\": [\"Not today but it'll have a deal discount of 29% Tommorow.\"],\n",
    "                                       \n",
    "}\n",
    "                               \n",
    "\n",
    "\n",
    "def get_response(user_input):\n",
    "    user_input = user_input.lower()\n",
    "    for key in responses:\n",
    "        if key in user_input:\n",
    "            return random.choice(responses[key])\n",
    "    return \"I don't understand that. Please ask something else.\"\n",
    "\n",
    "print(\"ChatBot: Hi! How can I assist you today?\")\n",
    "while True:\n",
    "    user_input = input(\"You: \")\n",
    "    if user_input.lower() == \"exit\":\n",
    "        print(\"ChatBot: Goodbye!\")\n",
    "        break\n",
    "    response = get_response(user_input)\n",
    "    print(response)"
   ]
  },
  {
   "cell_type": "code",
   "execution_count": null,
   "id": "0fcbf305-00dc-4da1-94ae-dbbbfd364f72",
   "metadata": {},
   "outputs": [],
   "source": []
  }
 ],
 "metadata": {
  "kernelspec": {
   "display_name": "Python 3 (ipykernel)",
   "language": "python",
   "name": "python3"
  },
  "language_info": {
   "codemirror_mode": {
    "name": "ipython",
    "version": 3
   },
   "file_extension": ".py",
   "mimetype": "text/x-python",
   "name": "python",
   "nbconvert_exporter": "python",
   "pygments_lexer": "ipython3",
   "version": "3.10.8"
  }
 },
 "nbformat": 4,
 "nbformat_minor": 5
}
